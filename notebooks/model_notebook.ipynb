{
 "cells": [
  {
   "cell_type": "code",
   "execution_count": 1,
   "metadata": {},
   "outputs": [],
   "source": [
    "import json\n",
    "import pickle\n",
    "import numpy as np\n",
    "import os\n",
    "import random\n",
    "import re\n",
    "#models\n",
    "from sklearn.linear_model import LogisticRegression\n",
    "from sklearn.ensemble import RandomForestClassifier\n",
    "#hyperparameter tuning\n",
    "from sklearn.model_selection import GridSearchCV\n",
    "#preprocessing\n",
    "from sklearn.preprocessing import normalize\n",
    "#for stats\n",
    "from scipy import stats\n",
    "import time\n",
    "import sys\n",
    "#for plots\n",
    "import matplotlib.pyplot as plt \n",
    "from sklearn.metrics import plot_confusion_matrix"
   ]
  },
  {
   "cell_type": "code",
   "execution_count": 2,
   "metadata": {},
   "outputs": [],
   "source": [
    "# saving local file paths in variables\n",
    "EMB_DIR = './embeddings/'\n",
    "IMG_EMB_DIR = './image-embeddings/'\n",
    "LIB_DIR = \"./app/lib/\""
   ]
  },
  {
   "cell_type": "code",
   "execution_count": 3,
   "metadata": {},
   "outputs": [],
   "source": [
    "'''prep text data:\n",
    "- convert text to text embedding\n",
    "- structure every sample as a row'''\n",
    "def ready_text_data():\n",
    "    files = [f for f in os.listdir(EMB_DIR)]\n",
    "    # shuffle files in list\n",
    "    random.seed(42)\n",
    "    random.shuffle(files)\n",
    "\n",
    "    # setting train size to 80% of data\n",
    "    train_size = int(len(files)*0.8)\n",
    "\n",
    "    # initializing train and target to 0 vectors/matrices\n",
    "    x_train = np.zeros((train_size, 768))\n",
    "    x_test = np.zeros((len(files)-train_size, 768))\n",
    "    y_train = np.zeros(train_size, dtype=int)\n",
    "    y_test = np.zeros(len(files)-train_size, dtype=int)\n",
    "\n",
    "    # loop through train indices and store in x_train and y_train\n",
    "    for i in range(train_size):\n",
    "        filename = files[i]\n",
    "        with open(EMB_DIR + filename, 'r') as f:\n",
    "            x_train[i] = json.load(f)\n",
    "            y_train[i] = (0 if re.match('.*neg.*', filename) else 1)\n",
    "\n",
    "    # loop trhough test indices and store in x_test and y_test\n",
    "    for i in range(len(files) - train_size):\n",
    "        filename = files[train_size+i]\n",
    "        with open(EMB_DIR + filename, 'r') as f:\n",
    "            x_test[i] = json.load(f)\n",
    "            y_test[i] = (0 if re.match('.*neg.*', filename) else 1)\n",
    "\n",
    "    # make sure pos/neg split is correct\n",
    "    print(\"Negative/Positive Breakdown\")\n",
    "    print(y_train.mean(), y_test.mean())\n",
    "    return x_train, y_train, x_test, y_test"
   ]
  },
  {
   "cell_type": "code",
   "execution_count": 4,
   "metadata": {},
   "outputs": [],
   "source": [
    "'''preprocess images:\n",
    "- convert to image embedding\n",
    "- put each observation in \"tidy\" data format where each row is\n",
    "a sample'''\n",
    "def ready_image_data():\n",
    "    files = [f for f in os.listdir(IMG_EMB_DIR)]\n",
    "    random.seed(42)\n",
    "    random.shuffle(files)\n",
    "\n",
    "    train_size = int(len(files)*0.8)\n",
    "\n",
    "    x_train = np.zeros((train_size, 2048))\n",
    "    x_test = np.zeros((len(files)-train_size, 2048))\n",
    "    y_train = np.zeros(train_size, dtype=int)\n",
    "    y_test = np.zeros(len(files)-train_size, dtype=int)\n",
    "\n",
    "    print(f\"train size: {x_train.shape[0]}\")\n",
    "    class_map = {}\n",
    "    for i in range(train_size):\n",
    "        filename = files[i]\n",
    "        curr_class = filename.split('-')[0]\n",
    "        if curr_class in class_map:\n",
    "            y_train[i] = class_map[curr_class]\n",
    "        else:\n",
    "            curr_key = len(class_map) + 1\n",
    "            class_map[curr_class] = curr_key\n",
    "            y_train[i] = curr_key\n",
    "        with open(IMG_EMB_DIR+filename, 'r') as f:\n",
    "            x_train[i] = json.load(f)\n",
    "    print(f\"class count for train: {len(class_map)}\")\n",
    "\n",
    "    num_classes_not_in_train = 0\n",
    "    print(f\"test size: {x_test.shape[0]}\")\n",
    "    for i in range(len(files)-train_size):\n",
    "        filename = files[i+train_size]\n",
    "        curr_class = filename.split('-')[0]\n",
    "        if curr_class in class_map:\n",
    "            y_test[i] = class_map[curr_class]\n",
    "        else:\n",
    "            curr_key = len(class_map) + 1\n",
    "            class_map[curr_class] = curr_key\n",
    "            num_classes_not_in_train += 1\n",
    "            y_test[i] = curr_key\n",
    "        with open(IMG_EMB_DIR+filename, 'r') as f:\n",
    "            x_test[i] = json.load(f)\n",
    "    print(f\"class count for test: {len(class_map)}\")\n",
    "    print(f\"num classes not in train: {num_classes_not_in_train}\")\n",
    "\n",
    "    # get mode class aka the baseline for classification\n",
    "    mode = stats.mode(y_train)\n",
    "    print(\"Baseline :\", 100*round(mode.count[0]/len(y_train), 2), \"%\")\n",
    "\n",
    "    return x_train, y_train, x_test, y_test, class_map"
   ]
  },
  {
   "cell_type": "code",
   "execution_count": 5,
   "metadata": {},
   "outputs": [],
   "source": [
    "# setting text color to white \n",
    "import matplotlib as mpl\n",
    "COLOR = 'white'\n",
    "mpl.rcParams['text.color'] = COLOR\n",
    "mpl.rcParams['axes.labelcolor'] = COLOR\n",
    "mpl.rcParams['xtick.color'] = COLOR\n",
    "mpl.rcParams['ytick.color'] = COLOR"
   ]
  },
  {
   "cell_type": "code",
   "execution_count": 19,
   "metadata": {},
   "outputs": [],
   "source": [
    "''' Build Logistic Regression model\n",
    "that is trained and put into production predicting\n",
    "the sentiment of product review text embeddings'''\n",
    "def build_LR(x_train, y_train, x_test, y_test):\n",
    "    x_train = normalize(x_train)\n",
    "    x_test = normalize(x_test)\n",
    "\n",
    "    # MODEL 1 - Logistic Regression\n",
    "    # instantiate model\n",
    "    model = LogisticRegression(max_iter=1000)\n",
    "    # fit model to training data\n",
    "    model.fit(x_train, y_train)\n",
    "    # see resulting model's score on test data\n",
    "    print(\"Logistic Regression TXT Score:\")\n",
    "    print(model.score(x_test, y_test))\n",
    "    plot_confusion_matrix(model, x_test, y_test,\n",
    "                                 display_labels=[\"Negative\", \"Positive\"],\n",
    "                                 cmap=plt.cm.Blues,\n",
    "                                 values_format=\".0f\")\n",
    "    plt.title(\"Text Task Confusion Matrix\")\n",
    "    plt.savefig('text-lr-confusion-matrix.png', facecolor='black', \n",
    "                edgecolor='none')\n",
    "    plt.savefig('text-lr-confusion-matrix-trans.png', transparent=True)\n",
    "    plt.show()\n",
    "    "
   ]
  },
  {
   "cell_type": "code",
   "execution_count": 23,
   "metadata": {},
   "outputs": [],
   "source": [
    "''' Build Random Forest model that is trained\n",
    "and used to predict the class of a \"natural image\"'''\n",
    "def build_IMG(x_train, y_train, x_test, y_test, class_map):\n",
    "    x_train = normalize(x_train)\n",
    "    x_test = normalize(x_test)\n",
    "    # instantiate model\n",
    "    model = RandomForestClassifier(min_samples_leaf=2)\n",
    "    # fit model to train data\n",
    "    model.fit(x_train, y_train)\n",
    "    # see resulting model's score\n",
    "    print(\"RF IMG Score:\")\n",
    "    print(model.score(x_test, y_test))\n",
    "    plot_confusion_matrix(model, x_test, y_test,\n",
    "                                 display_labels=class_map.keys(),\n",
    "                                 cmap=plt.cm.Blues,\n",
    "                                 values_format=\".0f\", \n",
    "                                 xticks_rotation=\"vertical\")\n",
    "    plt.title(\"Image Task Confusion Matrix\")\n",
    "    plt.savefig('img-rf-confusion-matrix.png', facecolor='black', edgecolor='none',\n",
    "               bbox_inches='tight')\n",
    "    plt.savefig('img-rf-confusion-matrix-trans.png', transparent=True, bbox_inches='tight')\n",
    "    plt.show()"
   ]
  },
  {
   "cell_type": "code",
   "execution_count": 21,
   "metadata": {},
   "outputs": [
    {
     "name": "stdout",
     "output_type": "stream",
     "text": [
      "Negative/Positive Breakdown\n",
      "0.5045185848069675 0.5027728762288883\n",
      "Logistic Regression TXT Score:\n",
      "0.9534408873203932\n"
     ]
    },
    {
     "data": {
      "image/png": "[encoded data removed]",
      "text/plain": [
       "<Figure size 432x288 with 2 Axes>"
      ]
     },
     "metadata": {},
     "output_type": "display_data"
    }
   ],
   "source": [
    "# building text model\n",
    "x_train, y_train, x_test, y_test = ready_text_data()\n",
    "build_LR(x_train, y_train, x_test, y_test)"
   ]
  },
  {
   "cell_type": "code",
   "execution_count": 24,
   "metadata": {},
   "outputs": [
    {
     "name": "stdout",
     "output_type": "stream",
     "text": [
      "train size: 5519\n",
      "class count for train: 8\n",
      "test size: 1380\n",
      "class count for test: 8\n",
      "num classes not in train: 0\n",
      "Baseline : 14.000000000000002 %\n",
      "RF IMG Score:\n",
      "0.9971014492753624\n"
     ]
    },
    {
     "data": {
      "image/png": "[encoded data removed]",
      "text/plain": [
       "<Figure size 432x288 with 2 Axes>"
      ]
     },
     "metadata": {},
     "output_type": "display_data"
    }
   ],
   "source": [
    "# building image model\n",
    "X_train, Y_train, X_test, Y_test, class_map = ready_image_data()\n",
    "build_IMG(X_train, Y_train, X_test, Y_test, class_map)"
   ]
  }
 ],
 "metadata": {
  "kernelspec": {
   "display_name": "Python 3",
   "language": "python",
   "name": "python3"
  },
  "language_info": {
   "codemirror_mode": {
    "name": "ipython",
    "version": 3
   },
   "file_extension": ".py",
   "mimetype": "text/x-python",
   "name": "python",
   "nbconvert_exporter": "python",
   "pygments_lexer": "ipython3",
   "version": "3.6.5"
  }
 },
 "nbformat": 4,
 "nbformat_minor": 2
}
